{
 "cells": [
  {
   "cell_type": "markdown",
   "metadata": {},
   "source": [
    "## Time Interaction Fingerprint"
   ]
  },
  {
   "cell_type": "code",
   "execution_count": null,
   "metadata": {},
   "outputs": [],
   "source": [
    "from pyspark.sql import SparkSession\n",
    "from mmtfPyspark.io import mmtfReader\n",
    "from mmtfPyspark.interactions import InteractionFilter, InteractionFingerprinter\n",
    "from mmtfPyspark.filters import ContainsAlternativeLocations, NotFilter\n",
    "import papermill as pm\n",
    "import time"
   ]
  },
  {
   "cell_type": "markdown",
   "metadata": {},
   "source": [
    "### Run benchmark"
   ]
  },
  {
   "cell_type": "code",
   "execution_count": null,
   "metadata": {},
   "outputs": [],
   "source": [
    "t0 = time.time()\n",
    "spark = SparkSession.builder.master(\"local[\" + str(cores) + \"]\").appName(\"Fingerprint\").getOrCreate()\n",
    "\n",
    "t1 = time.time()\n",
    "structures = mmtfReader.read_sequence_file(path)\n",
    "#structures = structures.filter(NotFilter(ContainsAlternativeLocations()))\n",
    "                               \n",
    "interactionFilter = InteractionFilter(distanceCutoff=3.5, minInteractions=1)\n",
    "interactionFilter.set_query_groups(True, \"ASP\")\n",
    "interactionFilter.set_query_atom_names(True, ['OD1','OD2'])\n",
    "interactionFilter.set_target_groups(True, \"ARG\")\n",
    "interactionFilter.set_target_atom_names(True, ['NH1','NH2'])\n",
    "\n",
    "interactions = InteractionFingerprinter.get_polymer_interactions(structures, interactionFilter)\n",
    "count = interactions.count()\n",
    "\n",
    "t2 = time.time()\n",
    "spark.stop()"
   ]
  },
  {
   "cell_type": "markdown",
   "metadata": {},
   "source": [
    "### Record results"
   ]
  },
  {
   "cell_type": "code",
   "execution_count": null,
   "metadata": {},
   "outputs": [],
   "source": [
    "pm.record(\"fingerprint_total\", t2 - t0)\n",
    "pm.record(\"fingerprint\", t2 - t1)"
   ]
  }
 ],
 "metadata": {
  "kernelspec": {
   "display_name": "Python 3",
   "language": "python",
   "name": "python3"
  },
  "language_info": {
   "codemirror_mode": {
    "name": "ipython",
    "version": 3
   },
   "file_extension": ".py",
   "mimetype": "text/x-python",
   "name": "python",
   "nbconvert_exporter": "python",
   "pygments_lexer": "ipython3",
   "version": "3.6.3"
  }
 },
 "nbformat": 4,
 "nbformat_minor": 2
}
