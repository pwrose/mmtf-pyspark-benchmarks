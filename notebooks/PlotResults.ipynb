{
 "cells": [
  {
   "cell_type": "markdown",
   "metadata": {},
   "source": [
    "## Plot Benchmark Results"
   ]
  },
  {
   "cell_type": "code",
   "execution_count": 1,
   "metadata": {},
   "outputs": [],
   "source": [
    "import pandas as pd\n",
    "import papermill as pm\n",
    "import numpy as np\n",
    "import matplotlib.pyplot as plt\n",
    "%matplotlib inline"
   ]
  },
  {
   "cell_type": "code",
   "execution_count": 2,
   "metadata": {
    "scrolled": true
   },
   "outputs": [
    {
     "name": "stdout",
     "output_type": "stream",
     "text": [
      "cores: 4\n",
      "cpus:  2\n"
     ]
    }
   ],
   "source": [
    "import psutil\n",
    "n_cores = psutil.cpu_count(logical=True)\n",
    "n_cpus = psutil.cpu_count(logical=False)\n",
    "print(\"cores:\", n_cores)\n",
    "print(\"cpus: \", n_cpus)"
   ]
  },
  {
   "cell_type": "code",
   "execution_count": 3,
   "metadata": {},
   "outputs": [],
   "source": [
    "r = pd.read_csv('../results/Read.csv')[['cores','read']]\n",
    "f = pd.read_csv('../results/Filter.csv')[['cores','filter']]\n",
    "p = pd.read_csv('../results/Fingerprint.csv')[['cores','fingerprint']]\n",
    "m = pd.read_csv('../results/Flatmap.csv')[['cores','flatmap']]"
   ]
  },
  {
   "cell_type": "code",
   "execution_count": 4,
   "metadata": {},
   "outputs": [
    {
     "data": {
      "text/html": [
       "<div>\n",
       "<style scoped>\n",
       "    .dataframe tbody tr th:only-of-type {\n",
       "        vertical-align: middle;\n",
       "    }\n",
       "\n",
       "    .dataframe tbody tr th {\n",
       "        vertical-align: top;\n",
       "    }\n",
       "\n",
       "    .dataframe thead th {\n",
       "        text-align: right;\n",
       "    }\n",
       "</style>\n",
       "<table border=\"1\" class=\"dataframe\">\n",
       "  <thead>\n",
       "    <tr style=\"text-align: right;\">\n",
       "      <th></th>\n",
       "      <th>cores</th>\n",
       "      <th>flatmap</th>\n",
       "      <th>fingerprint</th>\n",
       "      <th>filter</th>\n",
       "      <th>read</th>\n",
       "    </tr>\n",
       "  </thead>\n",
       "  <tbody>\n",
       "    <tr>\n",
       "      <th>0</th>\n",
       "      <td>1</td>\n",
       "      <td>226.961150</td>\n",
       "      <td>154.365622</td>\n",
       "      <td>62.542948</td>\n",
       "      <td>61.597179</td>\n",
       "    </tr>\n",
       "    <tr>\n",
       "      <th>1</th>\n",
       "      <td>2</td>\n",
       "      <td>122.753293</td>\n",
       "      <td>85.638164</td>\n",
       "      <td>35.805331</td>\n",
       "      <td>34.839754</td>\n",
       "    </tr>\n",
       "    <tr>\n",
       "      <th>2</th>\n",
       "      <td>3</td>\n",
       "      <td>126.704003</td>\n",
       "      <td>88.336952</td>\n",
       "      <td>36.629864</td>\n",
       "      <td>35.284431</td>\n",
       "    </tr>\n",
       "    <tr>\n",
       "      <th>3</th>\n",
       "      <td>4</td>\n",
       "      <td>129.303737</td>\n",
       "      <td>90.052061</td>\n",
       "      <td>37.405966</td>\n",
       "      <td>36.063575</td>\n",
       "    </tr>\n",
       "  </tbody>\n",
       "</table>\n",
       "</div>"
      ],
      "text/plain": [
       "   cores     flatmap  fingerprint     filter       read\n",
       "0      1  226.961150   154.365622  62.542948  61.597179\n",
       "1      2  122.753293    85.638164  35.805331  34.839754\n",
       "2      3  126.704003    88.336952  36.629864  35.284431\n",
       "3      4  129.303737    90.052061  37.405966  36.063575"
      ]
     },
     "execution_count": 4,
     "metadata": {},
     "output_type": "execute_result"
    }
   ],
   "source": [
    "df = m.merge(p, on='cores')\n",
    "df = df.merge(f, on='cores')\n",
    "df = df.merge(r, on='cores')\n",
    "df"
   ]
  },
  {
   "cell_type": "code",
   "execution_count": 5,
   "metadata": {},
   "outputs": [
    {
     "data": {
      "image/png": "[encoded data removed]",
      "text/plain": [
       "<Figure size 432x288 with 1 Axes>"
      ]
     },
     "metadata": {},
     "output_type": "display_data"
    }
   ],
   "source": [
    "df.plot.line(x=\"cores\", grid=True, title=\"Time vs cores\")\n",
    "\n",
    "plt.ylabel('Time (s)')\n",
    "plt.xticks(np.arange(1, n_cores+1, 1))\n",
    "plt.savefig('../results/Benchmark.png')\n",
    "plt.show()"
   ]
  },
  {
   "cell_type": "code",
   "execution_count": 6,
   "metadata": {},
   "outputs": [
    {
     "name": "stdout",
     "output_type": "stream",
     "text": [
      "CPython 3.6.3\n",
      "IPython 6.3.1\n",
      "\n",
      "matplotlib 2.2.2\n",
      "numpy 1.14.5\n",
      "pandas 0.22.0\n",
      "papermill 0.15.0\n",
      "pyspark 2.3.1\n",
      "\n",
      "compiler   : GCC 4.2.1 Compatible Clang 4.0.1 (tags/RELEASE_401/final)\n",
      "system     : Darwin\n",
      "release    : 18.0.0\n",
      "machine    : x86_64\n",
      "processor  : i386\n",
      "CPU cores  : 4\n",
      "interpreter: 64bit\n"
     ]
    }
   ],
   "source": [
    "%load_ext watermark\n",
    "%watermark -v -m -p matplotlib,numpy,pandas,papermill,pyspark"
   ]
  }
 ],
 "metadata": {
  "kernelspec": {
   "display_name": "Python 3",
   "language": "python",
   "name": "python3"
  },
  "language_info": {
   "codemirror_mode": {
    "name": "ipython",
    "version": 3
   },
   "file_extension": ".py",
   "mimetype": "text/x-python",
   "name": "python",
   "nbconvert_exporter": "python",
   "pygments_lexer": "ipython3",
   "version": "3.6.3"
  }
 },
 "nbformat": 4,
 "nbformat_minor": 2
}
