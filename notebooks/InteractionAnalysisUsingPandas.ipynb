{
 "cells": [
  {
   "cell_type": "markdown",
   "metadata": {},
   "source": [
    "# Find Pairwise Interactions\n",
    "This notebook demonstrates how to calculate pairwise intra- and inter-molecular interactions at specified levels of granularity within biological assemblies and asymmetric units."
   ]
  },
  {
   "cell_type": "code",
   "execution_count": 1,
   "metadata": {},
   "outputs": [],
   "source": [
    "from pyspark.sql import SparkSession\n",
    "from mmtfPyspark.io import mmtfReader\n",
    "from mmtfPyspark.utils import ColumnarStructure\n",
    "from mmtfPyspark.interactions import InteractionExtractorPd"
   ]
  },
  {
   "cell_type": "markdown",
   "metadata": {},
   "source": [
    "### Start a Spark Session"
   ]
  },
  {
   "cell_type": "code",
   "execution_count": 2,
   "metadata": {},
   "outputs": [],
   "source": [
    "spark = SparkSession.builder.appName(\"Interactions\").getOrCreate()"
   ]
  },
  {
   "cell_type": "markdown",
   "metadata": {},
   "source": [
    "## Define Interaction Partners\n",
    "Interactions are defined by specifing two subsets of atoms, named **query** and **target**. Once defined, interactions can calculated between these two subsets."
   ]
  },
  {
   "cell_type": "markdown",
   "metadata": {},
   "source": [
    "### Use Pandas Dataframes to Create Subsets\n",
    "The InteractionExtractorPd internally uses Pandas dataframe queries to create query and target atom sets. Any of the Pandas column names below can be used to create subsets."
   ]
  },
  {
   "cell_type": "markdown",
   "metadata": {},
   "source": [
    "Example of a structure represented in a Pandas dataframe."
   ]
  },
  {
   "cell_type": "code",
   "execution_count": 3,
   "metadata": {
    "scrolled": true
   },
   "outputs": [],
   "source": [
    "structures = mmtfReader.download_mmtf_files([\"1OHR\"]).cache()\n",
    "\n",
    "# get first structure from Spark RDD (keys = PDB IDs, value = mmtf structures)\n",
    "first_structure = structures.values().first()\n",
    "\n",
    "# convert to a Pandas dataframe\n",
    "#df = ColumnarStructure(first_structure).to_pandas()\n",
    "df = ColumnarStructure(first_structure)\n",
    "#df.head(5)"
   ]
  },
  {
   "cell_type": "code",
   "execution_count": null,
   "metadata": {},
   "outputs": [],
   "source": [
    "df.to_pandas()"
   ]
  },
  {
   "cell_type": "markdown",
   "metadata": {},
   "source": [
    "### Create a subset of atoms using boolean expressions\n",
    "The following query creates a subset of ligand (non-polymer) atoms that are not water (HOH) or heavy water (DOD)."
   ]
  },
  {
   "cell_type": "code",
   "execution_count": null,
   "metadata": {
    "scrolled": true
   },
   "outputs": [],
   "source": [
    "query = \"not polymer and (group_name not in ['HOH','DOD'])\"\n",
    "df_lig = df.query(query)\n",
    "df_lig.head(5)"
   ]
  },
  {
   "cell_type": "markdown",
   "metadata": {},
   "source": [
    "## Calculate Interactions\n",
    " The following boolean expressions specify two subsets: ligands (query) and polymer groups (target). In this example, interactions within a distance cutoff of 4 &#197; are calculated."
   ]
  },
  {
   "cell_type": "code",
   "execution_count": null,
   "metadata": {
    "scrolled": false
   },
   "outputs": [],
   "source": [
    "query = \"not polymer and (group_name not in ['HOH','DOD'])\"\n",
    "target = \"polymer\"\n",
    "distance_cutoff = 4.0\n",
    "\n",
    "# the result is a Spark dataframe\n",
    "interactions = InteractionExtractorPd.get_interactions(structures, distance_cutoff,\n",
    "                                                       query, target)\n",
    "\n",
    "# get the first 5 rows of the Spark dataframe and display it as a Pandas dataframe\n",
    "interactions.limit(5).toPandas()"
   ]
  },
  {
   "cell_type": "markdown",
   "metadata": {},
   "source": [
    "## Calculate all interactions\n",
    "If query and target are not specified, all interactions are calculated. By default, intermolecular interactions are calculated."
   ]
  },
  {
   "cell_type": "code",
   "execution_count": null,
   "metadata": {},
   "outputs": [],
   "source": [
    "interactions = InteractionExtractorPd.get_interactions(structures, distance_cutoff)\n",
    "interactions.limit(5).toPandas()"
   ]
  },
  {
   "cell_type": "markdown",
   "metadata": {},
   "source": [
    "## Aggregate Interactions at Different Levels of Granularity\n",
    "Pairwise interactions can be listed at different levels of granularity by setting the **level**:\n",
    "* **level='coord'**: pairwise atom interactions, distances, and coordinates\n",
    "* **level='atom'**:  pairwise atom interactions and distances\n",
    "* **level='group'**: pairwise atom interactions aggregated at the group (residue) level (default)\n",
    "* **level='chain'**: pairwise atom interactions aggregated at the chain level"
   ]
  },
  {
   "cell_type": "markdown",
   "metadata": {},
   "source": [
    "The next example lists the interactions at the **coord** level, the level of highest granularity. You need to scroll in the dataframe to see all columns."
   ]
  },
  {
   "cell_type": "code",
   "execution_count": null,
   "metadata": {
    "scrolled": false
   },
   "outputs": [],
   "source": [
    "interactions = InteractionExtractorPd.get_interactions(structures, distance_cutoff,\n",
    "                                                         query, target, level='coord')\n",
    "interactions.limit(5).toPandas()"
   ]
  },
  {
   "cell_type": "markdown",
   "metadata": {},
   "source": [
    "## Calculate Inter- vs Intra-molecular Interactions\n",
    "Inter- and intra-molecular interactions can be calculated by explicitly setting the **inter** and **intra** flags.\n",
    "* **inter=True** (default)\n",
    "* **intra=False** (default)"
   ]
  },
  {
   "cell_type": "markdown",
   "metadata": {},
   "source": [
    "### Find intermolecular salt-bridges\n",
    "This example uses the default settings, i.e., finds intramolecular salt-bridges."
   ]
  },
  {
   "cell_type": "code",
   "execution_count": null,
   "metadata": {
    "scrolled": false
   },
   "outputs": [],
   "source": [
    "query = \"polymer and (group_name in ['ASP', 'GLU']) and (atom_name in ['OD1', 'OD2', 'OE1', 'OE2'])\"\n",
    "target = \"polymer and (group_name in ['ARG', 'LYS', 'HIS']) and (atom_name in ['NH1', 'NH2', 'NZ', 'ND1', 'NE2'])\"\n",
    "distance_cutoff = 3.5\n",
    "    \n",
    "interactions = InteractionExtractorPd.get_interactions(structures, distance_cutoff,\n",
    "                                                         query, target, level='atom')\n",
    "interactions.limit(5).toPandas()"
   ]
  },
  {
   "cell_type": "markdown",
   "metadata": {},
   "source": [
    "### Find intramolecular hydrogen bonds\n",
    "In this example, the inter and intra flags have been set to find intramolecular hydrogen bonds."
   ]
  },
  {
   "cell_type": "code",
   "execution_count": null,
   "metadata": {
    "scrolled": false
   },
   "outputs": [],
   "source": [
    "query = \"polymer and element in ['N','O']\"\n",
    "target = \"polymer and element in ['N','O']\"\n",
    "distance_cutoff = 3.5\n",
    "\n",
    "interactions = InteractionExtractorPd.get_interactions(structures, distance_cutoff,\n",
    "                                                       query, target, \n",
    "                                                       inter=False, intra=True,\n",
    "                                                       level='atom')\n",
    "interactions.limit(5).toPandas()"
   ]
  },
  {
   "cell_type": "markdown",
   "metadata": {},
   "source": [
    "## Calculate Interaction in the Biological Assembly vs. Asymmetric Unit"
   ]
  },
  {
   "cell_type": "code",
   "execution_count": null,
   "metadata": {},
   "outputs": [],
   "source": [
    "structures = mmtfReader.download_mmtf_files([\"1STP\"]).cache()"
   ]
  },
  {
   "cell_type": "markdown",
   "metadata": {},
   "source": [
    "By default, interactions in the first biological assembly are calculated. The **bio** parameter specifies the biological assembly number. Most PDB structure have only one biological assembly (bio=1), a few have more than one.\n",
    "* **bio=1** use first biological assembly (default)\n",
    "* **bio=2** use second biological assembly\n",
    "* **bio=None** use the asymmetric unit"
   ]
  },
  {
   "cell_type": "code",
   "execution_count": null,
   "metadata": {
    "scrolled": true
   },
   "outputs": [],
   "source": [
    "query = \"not polymer and (group_name not in ['HOH','DOD'])\"\n",
    "target = \"polymer\"\n",
    "distance_cutoff = 4.0\n",
    "\n",
    "# The asymmetric unit is a monomer (1 ligand, 1 protein chain)\n",
    "interactions = InteractionExtractorPd.get_interactions(structures, distance_cutoff,\n",
    "                                                       query, target, bio=None)\n",
    "print(\"Ligand interactions in asymmetric unit (monomer)        :\", interactions.count())\n",
    "\n",
    "# The first biological assembly is a tetramer (4 ligands, 4 protein chain)\n",
    "interactions = InteractionExtractorPd.get_interactions(structures, distance_cutoff,\n",
    "                                                       query, target, bio=1)\n",
    "print(\"Ligand interactions in 1st bio assembly (tetramer)      :\", interactions.count())\n",
    "\n",
    "# There is no second biological assembly, in that case zero interactions are returned\n",
    "interactions = InteractionExtractorPd.get_interactions(structures, distance_cutoff,\n",
    "                                                       query, target, bio=2)\n",
    "print(\"Ligand interactions in 2st bio assembly (does not exist):\", interactions.count())"
   ]
  },
  {
   "cell_type": "markdown",
   "metadata": {},
   "source": [
    "The 1st biological unit contains 68 - 4x16 = 4 additional interactions not found in the asymmetric unit."
   ]
  },
  {
   "cell_type": "markdown",
   "metadata": {},
   "source": [
    "## Stop Spark!"
   ]
  },
  {
   "cell_type": "code",
   "execution_count": null,
   "metadata": {},
   "outputs": [],
   "source": [
    "spark.stop()"
   ]
  }
 ],
 "metadata": {
  "kernelspec": {
   "display_name": "Python 3",
   "language": "python",
   "name": "python3"
  },
  "language_info": {
   "codemirror_mode": {
    "name": "ipython",
    "version": 3
   },
   "file_extension": ".py",
   "mimetype": "text/x-python",
   "name": "python",
   "nbconvert_exporter": "python",
   "pygments_lexer": "ipython3",
   "version": "3.7.4"
  }
 },
 "nbformat": 4,
 "nbformat_minor": 2
}
